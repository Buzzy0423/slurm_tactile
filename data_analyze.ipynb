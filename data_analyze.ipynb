{
 "cells": [
  {
   "cell_type": "code",
   "execution_count": 7,
   "metadata": {},
   "outputs": [],
   "source": [
    "import pandas as pd\n",
    "import numpy as np\n",
    "import re\n",
    "from scipy.stats import linregress"
   ]
  },
  {
   "cell_type": "code",
   "execution_count": 3,
   "metadata": {},
   "outputs": [],
   "source": [
    "df = pd.read_csv(\"experiment_data.csv\")"
   ]
  },
  {
   "cell_type": "code",
   "execution_count": 6,
   "metadata": {},
   "outputs": [],
   "source": [
    "def parse_reading(reading_str):\n",
    "    # Define a regex pattern that matches np.float64(<number>)\n",
    "    pattern = r'np\\.float64\\((-?\\d+\\.\\d+)\\)'\n",
    "    matches = re.findall(pattern, reading_str)\n",
    "    return [float(num) for num in matches]\n"
   ]
  },
  {
   "cell_type": "code",
   "execution_count": 8,
   "metadata": {},
   "outputs": [],
   "source": [
    "df[\"reading_parsed\"] = df[\"reading\"].apply(parse_reading)"
   ]
  },
  {
   "cell_type": "code",
   "execution_count": 13,
   "metadata": {},
   "outputs": [],
   "source": [
    "# Group the data by material, motion, and trial.\n",
    "grouped = df.groupby([\"material\", \"motion\", \"trial\"])"
   ]
  },
  {
   "cell_type": "code",
   "execution_count": 18,
   "metadata": {},
   "outputs": [],
   "source": [
    "def compute_trial_features(trial_df):\n",
    "    # Ensure the trial is sorted by timestamp\n",
    "    trial_df = trial_df.sort_values(\"timestamp\")\n",
    "    # Create a 2D numpy array: shape (n_samples, 15)\n",
    "    data = np.stack(trial_df[\"reading_parsed\"].tolist(), axis=0)\n",
    "    n_samples, n_channels = data.shape\n",
    "    x = np.arange(n_samples)  # time indices (0 to 19)\n",
    "    \n",
    "    features = {}\n",
    "    for ch in range(n_channels):\n",
    "        channel_data = data[:, ch]\n",
    "        # Basic time-series features:\n",
    "        features[f\"ch{ch}_mean\"] = np.mean(channel_data)\n",
    "        features[f\"ch{ch}_std\"] = np.std(channel_data)\n",
    "        features[f\"ch{ch}_min\"] = np.min(channel_data)\n",
    "        features[f\"ch{ch}_max\"] = np.max(channel_data)\n",
    "        features[f\"ch{ch}_ptp\"] = np.ptp(channel_data)  # peak-to-peak difference\n",
    "        \n",
    "        # Compute the linear trend (slope) via linear regression:\n",
    "        slope, _, _, _, _ = linregress(x, channel_data)\n",
    "        features[f\"ch{ch}_slope\"] = slope\n",
    "        \n",
    "        # Optional: energy of the signal\n",
    "        features[f\"ch{ch}_energy\"] = np.sum(channel_data**2) / n_samples\n",
    "    return features"
   ]
  },
  {
   "cell_type": "code",
   "execution_count": 19,
   "metadata": {},
   "outputs": [],
   "source": [
    "trial_features = []\n",
    "for (material, motion, trial), group in grouped:\n",
    "    feats = compute_trial_features(group)\n",
    "    feats[\"material\"] = material\n",
    "    feats[\"motion\"] = motion\n",
    "    feats[\"trial\"] = trial\n",
    "    trial_features.append(feats)"
   ]
  },
  {
   "cell_type": "code",
   "execution_count": 53,
   "metadata": {},
   "outputs": [],
   "source": [
    "# Create a DataFrame from the trial features\n",
    "features_df = pd.DataFrame(trial_features)"
   ]
  },
  {
   "cell_type": "code",
   "execution_count": 54,
   "metadata": {},
   "outputs": [],
   "source": [
    "#save the features to a CSV file\n",
    "features_df.to_csv(\"trial_features.csv\", index=False)"
   ]
  },
  {
   "cell_type": "code",
   "execution_count": 55,
   "metadata": {},
   "outputs": [
    {
     "name": "stdout",
     "output_type": "stream",
     "text": [
      "<class 'numpy.float64'>\n"
     ]
    }
   ],
   "source": [
    "print(type(features_df['ch0_energy'][0]))"
   ]
  },
  {
   "cell_type": "code",
   "execution_count": 56,
   "metadata": {},
   "outputs": [],
   "source": [
    "numeric_cols = features_df.select_dtypes(include=[np.number]).columns"
   ]
  },
  {
   "cell_type": "code",
   "execution_count": 57,
   "metadata": {},
   "outputs": [],
   "source": [
    "# Now, you can compute aggregated statistics on the extracted features.\n",
    "# For example, to compute statistics for each material-motion combination:\n",
    "mm_stats = features_df.groupby([\"material\", \"motion\"])[numeric_cols].agg([\"std\"])\n",
    "\n",
    "# Similarly, aggregated statistics can be computed for each motion (regardless of material)\n",
    "motion_stats = features_df.groupby(\"motion\")[numeric_cols].agg([\"std\"])\n",
    "\n",
    "# And for each material (regardless of motion)\n",
    "material_stats = features_df.groupby(\"material\")[numeric_cols].agg([\"std\"])\n",
    "\n",
    "# Finally, compute overall statistics across all trials.\n",
    "overall_stats = features_df[numeric_cols].agg([\"std\"])"
   ]
  },
  {
   "cell_type": "code",
   "execution_count": 58,
   "metadata": {},
   "outputs": [
    {
     "name": "stdout",
     "output_type": "stream",
     "text": [
      "=== Material-Motion Level Statistics ===\n",
      "                 ch0_mean   ch0_std   ch0_min   ch0_max   ch0_ptp ch0_slope  \\\n",
      "                      std       std       std       std       std       std   \n",
      "material motion                                                               \n",
      "fabric   push    0.580390  0.731874  2.120260  1.119488  2.721994  0.034803   \n",
      "         rub     0.418538  0.675166  1.878297  0.492949  2.048474  0.229793   \n",
      "         tap     0.251199  0.297297  1.044629  1.185853  2.086561  0.103680   \n",
      "metal    push    0.776520  0.194940  1.266589  2.007984  2.117602  0.044308   \n",
      "         rub     0.479619  0.473441  1.606470  2.191745  1.211196  0.099352   \n",
      "         tap     0.469352  0.840323  1.689081  3.107575  3.656743  0.135231   \n",
      "wood     push    0.958293  0.536710  2.108020  1.760183  2.535397  0.181640   \n",
      "         rub     1.066082  0.270630  1.257677  1.279846  0.627495  0.099501   \n",
      "         tap     0.687775  0.250026  0.730241  1.420651  1.198122  0.206865   \n",
      "\n",
      "                 ch0_energy  ch1_mean   ch1_std   ch1_min  ... ch13_slope  \\\n",
      "                        std       std       std       std  ...        std   \n",
      "material motion                                            ...              \n",
      "fabric   push    136.442519  0.880757  0.687939  1.300768  ...   0.106207   \n",
      "         rub     102.880742  0.795647  0.441992  0.391151  ...   0.114113   \n",
      "         tap      61.402505  0.968938  0.710207  1.419067  ...   0.131610   \n",
      "metal    push    188.879282  0.922052  0.474414  1.215833  ...   0.074329   \n",
      "         rub     116.821006  1.248490  0.312010  1.227803  ...   0.167952   \n",
      "         tap     118.237613  0.573282  0.511899  1.520115  ...   0.092869   \n",
      "wood     push    231.946482  0.537049  0.296790  1.744778  ...   0.127695   \n",
      "         rub     257.598833  0.514683  0.368813  0.921005  ...   0.056021   \n",
      "         tap     167.373933  0.510347  0.701100  0.790885  ...   0.103400   \n",
      "\n",
      "                ch13_energy ch14_mean  ch14_std  ch14_min  ch14_max  ch14_ptp  \\\n",
      "                        std       std       std       std       std       std   \n",
      "material motion                                                                 \n",
      "fabric   push    289.120636  0.582060  0.378018  1.932997  0.943507  2.215361   \n",
      "         rub     342.028451  1.356949  1.075307  1.462045  5.044430  5.589637   \n",
      "         tap     153.929373  0.720860  0.932792  1.466065  3.628394  4.380843   \n",
      "metal    push    178.843801  0.991596  0.899827  3.660533  1.252776  3.865957   \n",
      "         rub     381.616812  1.271582  0.343056  1.456023  2.855198  1.558966   \n",
      "         tap     193.755282  0.502580  0.456872  2.141373  2.745412  2.885781   \n",
      "wood     push    198.924355  1.123040  0.827085  1.968977  2.628798  3.801017   \n",
      "         rub     316.723243  1.626153  0.289170  1.773385  2.886831  2.477426   \n",
      "         tap     284.077122  0.932064  0.394629  2.134565  1.368924  3.025477   \n",
      "\n",
      "                ch14_slope  ch14_energy     trial  \n",
      "                       std          std       std  \n",
      "material motion                                    \n",
      "fabric   push     0.164288  1952.106027  1.581139  \n",
      "         rub      0.181136  4541.709643  1.581139  \n",
      "         tap      0.117536  2413.965698  1.581139  \n",
      "metal    push     0.148598  3329.792546  1.581139  \n",
      "         rub      0.131831  4257.466634  1.581139  \n",
      "         tap      0.193305  1685.427531  1.581139  \n",
      "wood     push     0.193380  3753.952062  1.581139  \n",
      "         rub      0.300516  5449.210506  1.581139  \n",
      "         tap      0.182281  3124.400294  1.581139  \n",
      "\n",
      "[9 rows x 106 columns]\n",
      "\n",
      "=== Motion Level Statistics (aggregated over materials) ===\n",
      "        ch0_mean   ch0_std   ch0_min   ch0_max   ch0_ptp ch0_slope  \\\n",
      "             std       std       std       std       std       std   \n",
      "motion                                                               \n",
      "push    0.741670  0.545868  1.871611  1.620383  2.409266  0.106132   \n",
      "rub     0.664329  0.496589  1.603433  1.432929  1.641666  0.147469   \n",
      "tap     0.545496  0.525048  1.533692  2.042584  2.620129  0.148199   \n",
      "\n",
      "        ch0_energy  ch1_mean   ch1_std   ch1_min  ... ch13_slope ch13_energy  \\\n",
      "               std       std       std       std  ...        std         std   \n",
      "motion                                            ...                          \n",
      "push    179.008071  0.740869  0.568148  1.532015  ...   0.100145  214.478894   \n",
      "rub     161.018408  0.861299  0.371757  0.861311  ...   0.112604  327.016020   \n",
      "tap     133.115247  0.777409  0.602489  1.249600  ...   0.105130  226.533997   \n",
      "\n",
      "       ch14_mean  ch14_std  ch14_min  ch14_max  ch14_ptp ch14_slope  \\\n",
      "             std       std       std       std       std        std   \n",
      "motion                                                                \n",
      "push    0.887711  0.711741  2.796673  1.889793  3.330475   0.159338   \n",
      "rub     1.359104  0.679051  1.456792  3.879428  3.826584   0.208276   \n",
      "tap     0.730599  0.601498  2.208893  2.552036  3.443692   0.170457   \n",
      "\n",
      "        ch14_energy    trial  \n",
      "                std      std  \n",
      "motion                        \n",
      "push    2973.500914  1.46385  \n",
      "rub     4551.572398  1.46385  \n",
      "tap     2448.482441  1.46385  \n",
      "\n",
      "[3 rows x 106 columns]\n",
      "\n",
      "=== Material Level Statistics (aggregated over motions) ===\n",
      "          ch0_mean   ch0_std   ch0_min   ch0_max   ch0_ptp ch0_slope  \\\n",
      "               std       std       std       std       std       std   \n",
      "material                                                               \n",
      "fabric    0.460024  0.630994  1.795053  1.052242  2.302389  0.137927   \n",
      "metal     0.563911  0.554114  1.572054  2.483073  2.607750  0.116587   \n",
      "wood      0.867476  0.351888  1.413355  1.424003  1.610367  0.162724   \n",
      "\n",
      "          ch0_energy  ch1_mean   ch1_std   ch1_min  ... ch13_slope  \\\n",
      "                 std       std       std       std  ...        std   \n",
      "material                                            ...              \n",
      "fabric    110.650048  0.890002  0.616402  1.101103  ...   0.113192   \n",
      "metal     137.946631  0.910736  0.431874  1.315268  ...   0.122398   \n",
      "wood      210.050440  0.625370  0.459001  1.148259  ...   0.103108   \n",
      "\n",
      "         ch13_energy ch14_mean  ch14_std  ch14_min  ch14_max  ch14_ptp  \\\n",
      "                 std       std       std       std       std       std   \n",
      "material                                                                 \n",
      "fabric    255.001280  0.948030  0.830867  2.243230  4.059633  4.131752   \n",
      "metal     275.702484  0.916744  0.628490  2.440424  2.323346  2.891965   \n",
      "wood      264.558278  1.202757  0.525918  2.183487  2.256987  3.353001   \n",
      "\n",
      "         ch14_slope  ch14_energy    trial  \n",
      "                std          std      std  \n",
      "material                                   \n",
      "fabric     0.146182  3174.139546  1.46385  \n",
      "metal      0.153564  3072.670402  1.46385  \n",
      "wood       0.216403  4028.020862  1.46385  \n",
      "\n",
      "[3 rows x 106 columns]\n",
      "\n",
      "=== Overall Statistics (all data) ===\n",
      "     ch0_mean   ch0_std   ch0_min   ch0_max   ch0_ptp  ch0_slope  ch0_energy  \\\n",
      "std   0.64365  0.519625  1.645952  1.720941  2.228294   0.137293  156.016162   \n",
      "\n",
      "     ch1_mean   ch1_std   ch1_min  ...  ch13_slope  ch13_energy  ch14_mean  \\\n",
      "std  0.813253  0.514771  1.230549  ...    0.111369   263.202421   1.010531   \n",
      "\n",
      "     ch14_std  ch14_min  ch14_max  ch14_ptp  ch14_slope  ch14_energy     trial  \n",
      "std  0.663757  2.284278  2.960876  3.505891     0.17767  3384.750121  1.430194  \n",
      "\n",
      "[1 rows x 106 columns]\n"
     ]
    }
   ],
   "source": [
    "# Display the results:\n",
    "print(\"=== Material-Motion Level Statistics ===\")\n",
    "print(mm_stats)\n",
    "\n",
    "print(\"\\n=== Motion Level Statistics (aggregated over materials) ===\")\n",
    "print(motion_stats)\n",
    "\n",
    "print(\"\\n=== Material Level Statistics (aggregated over motions) ===\")\n",
    "print(material_stats)\n",
    "\n",
    "print(\"\\n=== Overall Statistics (all data) ===\")\n",
    "print(overall_stats)"
   ]
  },
  {
   "cell_type": "code",
   "execution_count": 59,
   "metadata": {},
   "outputs": [
    {
     "name": "stdout",
     "output_type": "stream",
     "text": [
      "MANOVA formula:\n",
      "ch0_mean + ch0_std + ch0_min + ch0_max + ch0_ptp + ch0_slope + ch0_energy + ch1_mean + ch1_std + ch1_min + ch1_max + ch1_ptp + ch1_slope + ch1_energy + ch2_mean + ch2_std + ch2_min + ch2_max + ch2_ptp + ch2_slope + ch2_energy + ch3_mean + ch3_std + ch3_min + ch3_max + ch3_ptp + ch3_slope + ch3_energy + ch4_mean + ch4_std + ch4_min + ch4_max + ch4_ptp + ch4_slope + ch4_energy + ch5_mean + ch5_std + ch5_min + ch5_max + ch5_ptp + ch5_slope + ch5_energy + ch6_mean + ch6_std + ch6_min + ch6_max + ch6_ptp + ch6_slope + ch6_energy + ch7_mean + ch7_std + ch7_min + ch7_max + ch7_ptp + ch7_slope + ch7_energy + ch8_mean + ch8_std + ch8_min + ch8_max + ch8_ptp + ch8_slope + ch8_energy + ch9_mean + ch9_std + ch9_min + ch9_max + ch9_ptp + ch9_slope + ch9_energy + ch10_mean + ch10_std + ch10_min + ch10_max + ch10_ptp + ch10_slope + ch10_energy + ch11_mean + ch11_std + ch11_min + ch11_max + ch11_ptp + ch11_slope + ch11_energy + ch12_mean + ch12_std + ch12_min + ch12_max + ch12_ptp + ch12_slope + ch12_energy + ch13_mean + ch13_std + ch13_min + ch13_max + ch13_ptp + ch13_slope + ch13_energy + ch14_mean + ch14_std + ch14_min + ch14_max + ch14_ptp + ch14_slope + ch14_energy ~ material\n",
      "                               Multivariate linear model\n",
      "========================================================================================\n",
      "                                                                                        \n",
      "------------------------------------------------------------------------------------------\n",
      "             Intercept                 Value            Num DF   Den DF   F Value   Pr > F\n",
      "------------------------------------------------------------------------------------------\n",
      "                Wilks' lambda                -0.0000   13.0000   0.0000   -0.0000      nan\n",
      "               Pillai's trace                 7.5228   13.0000   0.0000   -0.0000      nan\n",
      "       Hotelling-Lawley trace   -19580867945086.0352   13.0000   0.0000   -0.0000      nan\n",
      "          Roy's greatest root                 1.0754   13.0000   0.0000    0.0000      nan\n",
      "----------------------------------------------------------------------------------------\n",
      "                                                                                        \n",
      "----------------------------------------------------------------------------------------\n",
      "        material               Value          Num DF  Den DF       F Value        Pr > F\n",
      "----------------------------------------------------------------------------------------\n",
      "          Wilks' lambda               0.0000 30.0000 -4.0000 -63083434693852.2109    nan\n",
      "         Pillai's trace               2.0790 30.0000 -2.0000               1.7540    nan\n",
      " Hotelling-Lawley trace 965057063007961.5000 30.0000 -6.0000 -96505706300796.1562    nan\n",
      "    Roy's greatest root 643371375338641.2500 15.0000 -1.0000 -42891425022576.0859    nan\n",
      "========================================================================================\n",
      "\n"
     ]
    }
   ],
   "source": [
    "import pandas as pd\n",
    "import numpy as np\n",
    "from statsmodels.multivariate.manova import MANOVA\n",
    "\n",
    "# Assume features_df is your DataFrame with shape (45, 108)\n",
    "# It has columns like \"ch0_mean\", \"ch0_std\", …, \"ch14_energy\", and metadata columns \"material\", \"motion\", \"trial\", \n",
    "# plus (if present) pca and tsne columns that we want to ignore.\n",
    "\n",
    "# 1. Subset to push operation trials\n",
    "df_push = features_df[features_df[\"motion\"] == \"push\"].copy()\n",
    "\n",
    "# 2. Drop columns that are not part of the sensor features.\n",
    "# We want to keep \"material\" because it is our independent variable.\n",
    "cols_to_drop = ['motion', 'trial', 'pca1', 'pca2', 'tsne1', 'tsne2']\n",
    "df_push.drop(columns=[col for col in cols_to_drop if col in df_push.columns], inplace=True)\n",
    "\n",
    "# 3. Identify the numeric feature columns.\n",
    "# Since the remaining columns include our sensor features (all numeric) and the categorical \"material\",\n",
    "# we select the numeric ones for the dependent variable.\n",
    "feature_cols = df_push.select_dtypes(include=[np.number]).columns.tolist()\n",
    "\n",
    "# 4. Build the MANOVA formula.\n",
    "# Dependent variables: all the numeric features (e.g., ch0_mean, ch0_std, …, ch14_energy)\n",
    "# Independent variable: material\n",
    "dep_vars = \" + \".join(feature_cols)\n",
    "formula = f\"{dep_vars} ~ material\"\n",
    "print(\"MANOVA formula:\")\n",
    "print(formula)\n",
    "\n",
    "# 5. Run MANOVA\n",
    "manova_results = MANOVA.from_formula(formula, data=df_push)\n",
    "print(manova_results.mv_test())\n"
   ]
  }
 ],
 "metadata": {
  "kernelspec": {
   "display_name": "mujoco",
   "language": "python",
   "name": "python3"
  },
  "language_info": {
   "codemirror_mode": {
    "name": "ipython",
    "version": 3
   },
   "file_extension": ".py",
   "mimetype": "text/x-python",
   "name": "python",
   "nbconvert_exporter": "python",
   "pygments_lexer": "ipython3",
   "version": "3.10.16"
  }
 },
 "nbformat": 4,
 "nbformat_minor": 2
}
